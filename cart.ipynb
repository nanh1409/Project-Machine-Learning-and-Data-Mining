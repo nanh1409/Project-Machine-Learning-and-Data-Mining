{
 "cells": [
  {
   "cell_type": "markdown",
   "metadata": {
    "id": "Hc74BW6TbO0l"
   },
   "source": [
    "# STROKE PREDICTION WITH DECISION TREE"
   ]
  },
  {
   "cell_type": "markdown",
   "metadata": {
    "id": "wPT0wqdVbO0v"
   },
   "source": [
    "# 1. Prepare Problem"
   ]
  },
  {
   "cell_type": "code",
   "execution_count": null,
   "metadata": {
    "cellView": "form",
    "id": "uMCeGpTNbO0x",
    "pycharm": {
     "name": "#%%\n"
    }
   },
   "outputs": [],
   "source": [
    "\n",
    "import os\n",
    "import numpy as np\n",
    "import warnings as wn\n",
    "import pandas as pd #làm việc với DL dạng bảng\n",
    "from matplotlib import pyplot #thư viện tạo và hiển thị đồ thị\n",
    "#các thư viện học máy scikit-learn\n",
    "from sklearn.metrics import f1_score #đánh giá hiệu suất của các mô hình phân loại nhị phân\n",
    "from sklearn.model_selection import RepeatedStratifiedKFold, cross_validate, cross_val_score, train_test_split #lựa chọn và đánh giá mô hình\n",
    "from sklearn.tree import DecisionTreeClassifier\n",
    "from sklearn.metrics import confusion_matrix, classification_report\n",
    "from sklearn.model_selection import GridSearchCV #kỹ thuật điều chỉnh siêu tham số\n",
    "from sklearn.impute import SimpleImputer #xử lý các giá trị bị thiếu trong DL\n",
    "from sklearn.compose import ColumnTransformer #áp dụng tiền xử lý khác nhau cho các cột\n",
    "from sklearn.preprocessing import KBinsDiscretizer, OrdinalEncoder, OneHotEncoder\n",
    "# KBinsDiscretizer => chia các đặc trưng số thành các khoảng rời rạc\n",
    "# OrdinalEncoder => chuyển các nhãn thành các số nguyên\n",
    "# OneHotEncoder => tạo ra các biến giả\n",
    "import seaborn #trực quan hóa DL\n",
    "#xử lý mất cân bằng DL\n",
    "from imblearn.over_sampling import SMOTE, SVMSMOTE, BorderlineSMOTE, ADASYN, RandomOverSampler\n",
    "from imblearn.under_sampling import TomekLinks, EditedNearestNeighbours, OneSidedSelection, NeighbourhoodCleaningRule, RandomUnderSampler\n",
    "from imblearn.combine import SMOTETomek, SMOTEENN\n",
    "from imblearn.pipeline import Pipeline\n",
    "#thư viện cho thuật toán Decision tree\n",
    "from sklearn import tree\n",
    "#lưu - tải các đối tượng python\n",
    "from pickle import dump, load\n",
    "import time\n",
    "#thiết lập tùy chọn hiển thị DL\n",
    "pd.set_option('display.width', 1000) #các DL dài hơn 1000 kí tự không bị cắt ngắn và hiển thị đầy đủ\n",
    "#pd.set_option('precision', 3)\n",
    "pd.set_option('display.precision', 3) #hiển thị đến 3 chữ số thập phân\n",
    "\n",
    "seed = 4\n",
    "os.environ['PYTHONHASHSEED'] = str(seed)\n",
    "np.random.seed(seed)\n",
    "\n",
    "# Vẽ biểu đồ hộp\n",
    "def my_boxplot(data, labels, xlabel, ylabel, title, loc):\n",
    "    fig = pyplot.figure()\n",
    "    ax = fig.add_subplot(111)\n",
    "    pyplot.boxplot(data)\n",
    "    ax.set_xticklabels(labels)\n",
    "    pyplot.xlabel(xlabel)\n",
    "    pyplot.ylabel(ylabel)\n",
    "    pyplot.title(title)\n",
    "    pyplot.savefig(loc + '/' + xlabel + \".png\")\n",
    "    pyplot.show()\n",
    "\n",
    "#Vẽ biểu đồ đường\n",
    "def my_lineplot(x, y1, y2, label1, label2, xlabel, ylabel, title, loc):\n",
    "    line1 = pyplot.plot(x, y1, '-o', label=label1)\n",
    "    line2 = pyplot.plot(x, y2, '-o', label=label2)\n",
    "    pyplot.legend() #hiển thị chú thích cho biểu đồ\n",
    "    pyplot.ylabel(ylabel)\n",
    "    pyplot.xlabel(xlabel)\n",
    "    pyplot.savefig(loc + '/' + title + \".png\")\n",
    "    pyplot.show()\n",
    " \n",
    "def visualize_boundary(model, X, Y):\n",
    "    model.fit(X[['age', 'avg_glucose_level']], Y)\n",
    "    min1, max1 = X['age'].min() - 5, X['age'].max() + 5\n",
    "    min2, max2 = X['avg_glucose_level'].min() - 5, X['avg_glucose_level'].max() + 5\n",
    "    x1grid = np.arange(min1, max1 , 1)\n",
    "    y1grid = np.arange(min2, max2, 1)\n",
    "    xx, yy = np.meshgrid(x1grid, y1grid)\n",
    "    r1, r2 = xx.flatten(), yy.flatten()\n",
    "    r1, r2 = r1.reshape((len(r1), 1)), r2.reshape((len(r2), 1))\n",
    "    grid = np.hstack((r1, r2))\n",
    "    yhat = model.predict_proba(grid)\n",
    "    yhat = yhat[:xx.shape[0]*xx.shape[1], 0]\n",
    "    zz = yhat.reshape(xx.shape)\n",
    "    cm = 'RdBu'\n",
    "    c = pyplot.contourf(xx, yy, zz, cmap=cm, alpha=0.2, levels=9)\n",
    "    pyplot.colorbar(c)\n",
    "    seaborn.scatterplot(data=data_test, x='age', y='avg_glucose_level', hue='true', s=20)"
   ]
  },
  {
   "cell_type": "markdown",
   "metadata": {},
   "source": [
    "# 2. Data Analysis\n"
   ]
  },
  {
   "cell_type": "code",
   "execution_count": null,
   "metadata": {
    "cellView": "form",
    "id": "KxxjfI-ebO0z",
    "pycharm": {
     "name": "#%%\n"
    }
   },
   "outputs": [],
   "source": [
    "\n",
    "filename = \"healthcare-dataset-stroke-data.csv\"\n",
    "data = pd.read_csv(filename, index_col=\"id\")\n",
    "#danh sách các thuộc tính\n",
    "features = ['age', 'avg_glucose_level', 'bmi', 'smoking_status', 'gender', 'hypertension', 'heart_disease', 'ever_married', 'work_type', 'Residence_type']\n",
    "target = 'stroke' #thuộc tính dự đoán"
   ]
  },
  {
   "cell_type": "code",
   "execution_count": null,
   "metadata": {
    "cellView": "form",
    "id": "IsJsBUz_6ajA",
    "pycharm": {
     "name": "#%%\n"
    }
   },
   "outputs": [],
   "source": [
    "\n",
    "scoring = 'f1' #phương thức đánh giá mô hình F1\n",
    "kfold = RepeatedStratifiedKFold(n_splits=5, n_repeats=10, random_state=seed) #Đọc kĩ trong report"
   ]
  },
  {
   "cell_type": "code",
   "execution_count": null,
   "metadata": {},
   "outputs": [],
   "source": [
    "seaborn.countplot(x='stroke', data=data)\n",
    "# pyplot.savefig(\"./class_distribution.png\")\n",
    "pyplot.show()"
   ]
  },
  {
   "cell_type": "code",
   "execution_count": null,
   "metadata": {
    "cellView": "form",
    "id": "x2AP3Dd36ajB",
    "outputId": "ad3c4c19-3cdb-4ab6-d84d-287b92c90c5a",
    "pycharm": {
     "name": "#%%\n"
    }
   },
   "outputs": [],
   "source": [
    "\n",
    "# Remove outlier associated with `gender` (only 1 outlier)\n",
    "data = data[data['gender'] != \"Other\"]\n",
    "\n",
    "# Determine by percentage of unique values\n",
    "categorical_ix = []\n",
    "numerical_ix = []\n",
    "n_uniques = data.nunique() #số giá trị khác nhau trong 1 thuộc tính\n",
    "for col in features:\n",
    "    percentage = n_uniques[col]/data.shape[0] * 100\n",
    "    if percentage < 1:\n",
    "        categorical_ix.append(col)\n",
    "    else:\n",
    "        numerical_ix.append(col)\n",
    "print(\"Categorical:\", categorical_ix)\n",
    "print(\"Numerical:\", numerical_ix)\n",
    "\n"
   ]
  },
  {
   "cell_type": "code",
   "execution_count": null,
   "metadata": {},
   "outputs": [],
   "source": [
    "# boxplot\n",
    "data[numerical_ix].plot(kind='box', subplots=True, layout=(1, 3), figsize=(18, 6))\n",
    "# pyplot.savefig(\"./exploration_figures/boxplot_before.png\")\n",
    "pyplot.show()\n",
    "data[numerical_ix].describe()"
   ]
  },
  {
   "cell_type": "code",
   "execution_count": null,
   "metadata": {},
   "outputs": [],
   "source": [
    "#pairplot\n",
    "seaborn.pairplot(data.sort_values('stroke'), hue='stroke')\n",
    "# pyplot.savefig(\"./exploration_figures/pairplot.png\")\n",
    "pyplot.show()"
   ]
  },
  {
   "cell_type": "markdown",
   "metadata": {
    "id": "XnJS9tQ_bO1I",
    "pycharm": {
     "name": "#%% md\n"
    }
   },
   "source": [
    "# 3. Data Cleaning"
   ]
  },
  {
   "cell_type": "code",
   "execution_count": null,
   "metadata": {
    "cellView": "form",
    "id": "TYOQk3ANbO1L",
    "outputId": "ea23108b-37ed-49a2-cc06-b7157cba568a",
    "pycharm": {
     "name": "#%%\n"
    }
   },
   "outputs": [],
   "source": [
    "#Tạo chuỗi boolean cho biết có bị trùng lặp không - True là lặp\n",
    "dups = data[features].duplicated()\n",
    "#Truy cập vào data tìm mẫu có kết quả true - đếm, đưa ra kết quả\n",
    "data[dups].shape[0]"
   ]
  },
  {
   "cell_type": "code",
   "execution_count": null,
   "metadata": {
    "cellView": "form",
    "id": "NHt0LcehbO1O",
    "pycharm": {
     "name": "#%%\n"
    }
   },
   "outputs": [],
   "source": [
    "outlier_strategy = 'Quantile_Range_Outlier_Detection'\n",
    "q25, q75 = data['bmi'].quantile(0.25), data['bmi'].quantile(0.75)\n",
    "iqr = q75 - q25\n",
    "factor = 4\n",
    "cut_off = iqr * factor\n",
    "bmi_upper = q75 + cut_off \n",
    "age_lower = 1\n",
    "\n",
    "# identify non-outlier indexes\n",
    "#nếu bmi>bmi_upper và age<age_lower thì sẽ là outlier\n",
    "mask_outlier = (data[\"bmi\"] > bmi_upper) | (data[\"age\"] < age_lower)\n",
    "mask_nonoutlier = mask_outlier == False #True cho không ngoại lệ và False có ngoại lệ\n",
    "\n",
    "data = data[mask_nonoutlier].copy() #copy bản không ngoại lệ"
   ]
  },
  {
   "cell_type": "markdown",
   "metadata": {
    "id": "1qfBZWHubO1X"
   },
   "source": [
    "# 4. Evaluate Algorithms"
   ]
  },
  {
   "cell_type": "code",
   "execution_count": null,
   "metadata": {
    "cellView": "form",
    "id": "iHC_YVEO6ajK",
    "pycharm": {
     "name": "#%%\n"
    }
   },
   "outputs": [],
   "source": [
    "\n",
    "test_size = 0.33\n",
    "X_train, X_test, Y_train, Y_test = train_test_split(data[features], data['stroke'], test_size=test_size, stratify=data['stroke'], random_state=seed)\n",
    "#sử dụng hàm traim-test-split từ module sklearn.model_selection để chia DL thành tập huấn luyện (train) và tập kiểm tra (test) theo tỉ lệ 2:1"
   ]
  },
  {
   "cell_type": "code",
   "execution_count": null,
   "metadata": {
    "cellView": "form",
    "id": "DuPdx_5g6ajM",
    "outputId": "096b57cf-f5e8-40b7-f3d8-ecaa40146611",
    "pycharm": {
     "name": "#%%\n"
    },
    "scrolled": true
   },
   "outputs": [],
   "source": [
    "\n",
    "#SimpleImputer - điền giá trị thiếu cho thuộc tính số\n",
    "#OrdinalEncoder - mã hóa thuộc tính phân loại thành các số\n",
    "\n",
    "step_trans = ('Trans', ColumnTransformer([('SimpleImputer', SimpleImputer(), numerical_ix),\n",
    "                                          ('OrdinalEncoder', OrdinalEncoder(), categorical_ix)],\n",
    "                                         remainder='passthrough'))\n",
    "#Xây dựng mô hình Cart\n",
    "step_cart = ('CART', DecisionTreeClassifier(random_state=seed))\n",
    "\n",
    "ratios = np.arange(0.1, 1, 0.1)\n",
    "names = ['None'] + [str(round(ratio, 1)) for ratio in ratios]\n",
    "# print(names)\n",
    "naive_model = Pipeline([step_trans, step_cart]) #xử lý trước để chuẩn bị DL trước khi áp dụng mô hình\n",
    "\n",
    "#Sử dụng các kỹ thuật nhân bản DL để xử lý sự mất cân bằng DL trước khi đưa vào mô hình\n",
    "models = [Pipeline([step_trans,\n",
    "                    ('ROS', RandomOverSampler(random_state=seed)),\n",
    "                    step_cart]),\n",
    "          Pipeline([step_trans,\n",
    "                    ('SMOTE', SMOTE(random_state=seed)),\n",
    "                    step_cart]),\n",
    "          Pipeline([step_trans,\n",
    "                    ('SVMSMOTE', SVMSMOTE(random_state=seed)),\n",
    "                    step_cart]),\n",
    "          Pipeline([step_trans,\n",
    "                    ('BLSMOTE', BorderlineSMOTE(random_state=seed)),\n",
    "                    step_cart]),\n",
    "          Pipeline([step_trans,\n",
    "                    ('RUS', RandomUnderSampler(random_state=seed)),\n",
    "                    step_cart]),\n",
    "          Pipeline([step_trans,\n",
    "                    ('OSS', OneSidedSelection(random_state=seed)),\n",
    "                    step_cart]),\n",
    "          Pipeline([step_trans,\n",
    "                    ('NCR', NeighbourhoodCleaningRule()),\n",
    "                    step_cart]),\n",
    "          Pipeline([step_trans,\n",
    "                    ('SMOTETomek', SMOTETomek(random_state=seed)),\n",
    "                    step_cart]),\n",
    "          Pipeline([step_trans,\n",
    "                    ('SMOTEENN', SMOTEENN(random_state=seed)),\n",
    "                    step_cart])\n",
    "          ]\n",
    "\n",
    "for model in models:\n",
    "    cv_results = cross_val_score(naive_model, X_train, Y_train, cv=kfold, scoring=scoring)\n",
    "    results = [cv_results.mean()]\n",
    "    print(\"No sampling: %f\" % (cv_results.mean()))\n",
    "\n",
    "    if model.steps[1][0] != 'OSS' and model.steps[1][0] != 'NCR':\n",
    "        for ratio in ratios:\n",
    "            model.steps[1][1].set_params(sampling_strategy=ratio)\n",
    "            cv_results = cross_val_score(model, X_train, Y_train, cv=kfold, scoring=scoring)\n",
    "            results.append(cv_results.mean())\n",
    "            print(\"%s (ratio:%.1f): %f\" % (model.steps[1][0], ratio, cv_results.mean()))\n",
    "        line = pyplot.plot(names, results, '-o', label=model.steps[1][0])\n",
    "    else:\n",
    "        cv_results = cross_val_score(model, X_train, Y_train, cv=kfold, scoring=scoring)\n",
    "        results.extend([cv_results.mean()] * (len(ratios)))\n",
    "        print(\"%s: %f\" % (model.steps[1][0], cv_results.mean()))\n",
    "        line = pyplot.plot(names, results, '-', label=model.steps[1][0])\n",
    "\n",
    "    # line = pyplot.plot(names, results, '-o', label=model.steps[1][0])\n",
    "    pyplot.legend()\n",
    "    pyplot.ylabel('F1 score')\n",
    "    pyplot.xlabel('Sampling ratio')\n",
    "\n",
    "pyplot.title(\"Spot-check sampling effect on CART\")\n",
    "pyplot.show()"
   ]
  },
  {
   "cell_type": "code",
   "execution_count": null,
   "metadata": {
    "cellView": "form",
    "id": "GwdKo_TT6ajP",
    "outputId": "6b3e112c-954d-4b7d-ede4-cd785a121586",
    "pycharm": {
     "name": "#%%\n"
    }
   },
   "outputs": [],
   "source": [
    "\n",
    "transformers = [('Ordinal', ColumnTransformer([('SimpleImputer', SimpleImputer(), numerical_ix),\n",
    "                                               ('OrdinalEncoder', OrdinalEncoder(), categorical_ix)],\n",
    "                                              remainder='passthrough')),\n",
    "                ('OneHot', ColumnTransformer([('SimpleImputer', SimpleImputer(), numerical_ix),\n",
    "                                              ('OneHotEncoder', OneHotEncoder(), categorical_ix)],\n",
    "                                             remainder='passthrough'))\n",
    "                ]\n",
    "\n",
    "step_smote = ('SMOTEENN', SMOTEENN(sampling_strategy=0.3, random_state=seed))\n",
    "step_cart = ('CART', DecisionTreeClassifier(random_state=seed))\n",
    "\n",
    "results = []\n",
    "names = []\n",
    "\n",
    "for name, transformer in transformers:\n",
    "    model = Pipeline([('Trans', transformer),\n",
    "                      step_smote,\n",
    "                      step_cart])\n",
    "    cv_results = cross_val_score(model, X_train, Y_train, cv=kfold, scoring=scoring)\n",
    "    results.append(cv_results)\n",
    "    names.append(name)\n",
    "    print(\"%s: %f\" % (name, cv_results.mean()))\n",
    "\n",
    "    model.fit(X_train, Y_train)\n",
    "    print(\"... with: n_leaves: %d \\tdepth: %d\" % (model['CART'].get_n_leaves(), model['CART'].get_depth()))\n",
    "\n",
    "my_boxplot(xlabel='CART_encoding_strategy', data=results, labels=names, ylabel=\"F1 score\", title=\"Encoding strategy impact on CART\", loc='./CART_figures')"
   ]
  },
  {
   "cell_type": "markdown",
   "metadata": {
    "id": "RdOW4XOY6ajN",
    "pycharm": {
     "name": "#%% md\n"
    }
   },
   "source": [
    "After several runs, we notice that SMOTEENN is the most promising. In the next part of notebook, we'll use SMOTEENN with ratio 0.3 as default sampling technique"
   ]
  },
  {
   "cell_type": "markdown",
   "metadata": {
    "id": "1PqPHQqY6ajQ",
    "pycharm": {
     "name": "#%% md\n"
    }
   },
   "source": [
    "According to some articles, Onehot encoding is generally more suitable for norminal variables and in Decision Tree model, Ordinal encoding is more suitable.\n",
    "\n",
    "In our problem, after doing many experiment, we do not any significant different."
   ]
  },
  {
   "cell_type": "markdown",
   "metadata": {
    "id": "arMC5UwnbO1e"
   },
   "source": [
    "# 5. Algorithm Tuning\n",
    "\n",
    "```\n",
    "Danh sách các tham số mô hình: \n",
    "DecisionTreeClassifier(*, criterion='gini', splitter='best', max_depth=None, min_samples_split=2, min_samples_leaf=1, min_weight_fraction_leaf=0.0, max_features=None, random_state=None, max_leaf_nodes=None, min_impurity_decrease=0.0, min_impurity_split=None, class_weight=None, ccp_alpha=0.0)\n",
    "```"
   ]
  },
  {
   "cell_type": "code",
   "execution_count": null,
   "metadata": {
    "cellView": "form",
    "id": "_88vbBKd6ajV",
    "pycharm": {
     "name": "#%%\n"
    }
   },
   "outputs": [],
   "source": [
    "\n",
    "step_trans = ('Trans', ColumnTransformer([('SimpleImputer', SimpleImputer(), numerical_ix),\n",
    "                                          ('OrdinalEncoder', OrdinalEncoder(), categorical_ix)],\n",
    "                                         remainder='passthrough'))\n",
    "step_smote = ('SMOTEENN', SMOTEENN(sampling_strategy=0.3, random_state=seed))"
   ]
  },
  {
   "cell_type": "code",
   "execution_count": null,
   "metadata": {
    "cellView": "form",
    "id": "G1vfu52ObO1h",
    "outputId": "95b4776e-d7a8-44a6-8b11-e6bf3ee1e328",
    "pycharm": {
     "name": "#%%\n"
    }
   },
   "outputs": [],
   "source": [
    "\n",
    "step_cart = ('CART', DecisionTreeClassifier(random_state=seed))\n",
    "\n",
    "model = Pipeline([step_trans, step_smote, step_cart])\n",
    "\n",
    "train_results = []\n",
    "validation_results = []\n",
    "min_samples_splits = np.arange(2, 43, 5)\n",
    "\n",
    "for min_samples_split in min_samples_splits:\n",
    "    model['CART'].set_params(min_samples_split=min_samples_split)\n",
    "    cv_results = cross_validate(model, X_train, Y_train, cv=kfold, scoring=scoring, return_train_score=True)\n",
    "    train_results.append(cv_results['train_score'].mean())\n",
    "    validation_results.append(cv_results['test_score'].mean())\n",
    "\n",
    "my_lineplot(x=min_samples_splits, y1=train_results, y2=validation_results, label1='Train', label2='Validation', xlabel='min_samples_split', ylabel='F1 Score', title='CART_tune_minsamplessplit', loc='./CART_figures')"
   ]
  },
  {
   "cell_type": "code",
   "execution_count": null,
   "metadata": {
    "cellView": "form",
    "id": "WWONIvV3bO1i",
    "outputId": "83494a44-dca6-41f5-e7f5-3c82e741c633",
    "pycharm": {
     "name": "#%%\n"
    },
    "scrolled": true
   },
   "outputs": [],
   "source": [
    "\n",
    "step_cart = ('CART', DecisionTreeClassifier(random_state=seed))\n",
    "\n",
    "model = Pipeline([step_trans, step_smote, step_cart])\n",
    "\n",
    "train_results = []\n",
    "validation_results = []\n",
    "min_samples_leafs = np.arange(1, 21, 2)\n",
    "\n",
    "for min_samples_leaf in min_samples_leafs:\n",
    "    model['CART'].set_params(min_samples_leaf=min_samples_leaf)\n",
    "    cv_results = cross_validate(model, X_train, Y_train, cv=kfold, scoring=scoring, return_train_score=True)\n",
    "    train_results.append(cv_results['train_score'].mean())\n",
    "    validation_results.append(cv_results['test_score'].mean())\n",
    "\n",
    "my_lineplot(x=min_samples_leafs, y1=train_results, y2=validation_results, label1='Train', label2='Validation', xlabel='min_samples_leaf', ylabel='F1 Score', title='CART_tune_minleafsplit', loc='./CART_figures')"
   ]
  },
  {
   "cell_type": "code",
   "execution_count": null,
   "metadata": {
    "cellView": "form",
    "id": "_xF7o8aObO1g",
    "outputId": "a46e86ae-3709-4329-91ac-48f32310ea04",
    "pycharm": {
     "name": "#%%\n"
    }
   },
   "outputs": [],
   "source": [
    "#Giải quyết vấn đề overfit\n",
    "\n",
    "step_cart = ('CART', DecisionTreeClassifier(random_state=seed, min_samples_split=37, min_samples_leaf=11))\n",
    "\n",
    "model = Pipeline([step_trans, step_smote, step_cart])\n",
    "\n",
    "train_results = []\n",
    "validation_results = []\n",
    "max_depths = np.arange(1, 15, 2)\n",
    "\n",
    "for max_depth in max_depths:\n",
    "    model['CART'].set_params(max_depth=max_depth)\n",
    "    cv_results = cross_validate(model, X_train, Y_train, cv=kfold, scoring=scoring, return_train_score=True)\n",
    "    train_results.append(cv_results['train_score'].mean())\n",
    "    validation_results.append(cv_results['test_score'].mean())\n",
    "\n",
    "my_lineplot(x=max_depths, y1=train_results, y2=validation_results, label1='Train', label2='Validation', xlabel='max_depth', ylabel='F1 Score', title='CART_tune_maxdepth', loc='./CART_figures')\n",
    "\n",
    "data_train = X_train.copy()\n",
    "data_train['true'] = Y_train\n",
    "data_train.sort_values('true', inplace=True)\n",
    "\n",
    "pyplot.figure(figsize=(21, 21))\n",
    "pyplot.subplot(3, 3, 1)\n",
    "seaborn.scatterplot(data=data_train, x='age', y='avg_glucose_level', hue='true')\n",
    "pyplot.title('True classification of train set')\n",
    "\n",
    "i = 2\n",
    "for max_depth in max_depths:\n",
    "    model['CART'].set_params(max_depth=max_depth)\n",
    "    model.fit(X_train, Y_train)\n",
    "    Y_pred = model.predict(X_train)\n",
    "\n",
    "    data_train = X_train.copy()\n",
    "\n",
    "    data_train['pred'] = Y_pred\n",
    "    data_train.sort_values('pred', inplace=True)\n",
    "    pyplot.subplot(3, 3, i)\n",
    "    seaborn.scatterplot(data=data_train, x='age', y='avg_glucose_level', hue='pred')\n",
    "    pyplot.title('max_depth = ' + str(max_depth))\n",
    "    i += 1\n",
    "\n",
    "pyplot.savefig('./CART_figures/CART_maxdepth.png')\n",
    "pyplot.show()"
   ]
  },
  {
   "cell_type": "markdown",
   "metadata": {
    "id": "pvRgVWhq6ajX",
    "pycharm": {
     "name": "#%% md\n"
    }
   },
   "source": [
    "As we can see in the figure, the model predicts fairly well on train set as `max_depth` increases, but fails on new data."
   ]
  },
  {
   "cell_type": "code",
   "execution_count": null,
   "metadata": {
    "cellView": "form",
    "id": "eRUL2Hf36ajc",
    "outputId": "24d3d74f-dcea-4f56-b71f-a71ef46e3c2c",
    "pycharm": {
     "name": "#%%\n"
    }
   },
   "outputs": [],
   "source": [
    "\n",
    "step_cart = ('CART', DecisionTreeClassifier(random_state=seed, min_samples_split=37, min_samples_leaf=11))\n",
    "\n",
    "model = Pipeline([step_trans, step_smote, step_cart])\n",
    "\n",
    "train_results = []\n",
    "validation_results = []\n",
    "max_featuress = np.arange(1, 11, 1)\n",
    "\n",
    "for max_features in max_featuress:\n",
    "    model['CART'].set_params(max_features=max_features)\n",
    "    cv_results = cross_validate(model, X_train, Y_train, cv=kfold, scoring=scoring, return_train_score=True)\n",
    "    train_results.append(cv_results['train_score'].mean())\n",
    "    validation_results.append(cv_results['test_score'].mean())\n",
    "\n",
    "my_lineplot(x=max_featuress, y1=train_results, y2=validation_results, label1='Train', label2='Validation', xlabel='max_features', ylabel='F1 Score', title='CART_tune_maxfeatures', loc='./CART_figures')"
   ]
  },
  {
   "cell_type": "code",
   "execution_count": null,
   "metadata": {
    "cellView": "form",
    "id": "XzBV9cns6aje",
    "outputId": "c993d564-9c71-492e-f315-5f73bc5096df",
    "pycharm": {
     "name": "#%%\n"
    }
   },
   "outputs": [],
   "source": [
    "\n",
    "step_cart = ('CART', DecisionTreeClassifier(random_state=seed, min_samples_split=37, min_samples_leaf=11))\n",
    "\n",
    "model = Pipeline([step_trans, step_smote, step_cart])\n",
    "\n",
    "train_results = []\n",
    "validation_results = []\n",
    "ccp_alphas = np.arange(0, 0.051, 0.005)\n",
    "\n",
    "for ccp_alpha in ccp_alphas:\n",
    "    model['CART'].set_params(ccp_alpha=ccp_alpha)\n",
    "    cv_results = cross_validate(model, X_train, Y_train, cv=kfold, scoring=scoring, return_train_score=True)\n",
    "    train_results.append(cv_results['train_score'].mean())\n",
    "    validation_results.append(cv_results['test_score'].mean())\n",
    "\n",
    "my_lineplot(x=ccp_alphas, y1=train_results, y2=validation_results, label1='Train', label2='Validation', xlabel='ccp_alphas', ylabel='F1 Score', title='CART_tune_ccpalpha', loc='./CART_figures')"
   ]
  },
  {
   "cell_type": "code",
   "execution_count": null,
   "metadata": {
    "cellView": "form",
    "id": "JuDgYzoT6ajf",
    "outputId": "1a0a14ba-dcd6-4da0-c5cf-0eb153b0b3cd",
    "pycharm": {
     "name": "#%%\n"
    }
   },
   "outputs": [],
   "source": [
    "\n",
    "step_cart = ('CART', DecisionTreeClassifier(random_state=seed, min_samples_split=37, min_samples_leaf=11))\n",
    "\n",
    "model = Pipeline([step_trans, step_smote, step_cart])\n",
    "\n",
    "ccp_alphas = np.arange(0.001, 0.009, 0.001)\n",
    "\n",
    "data_train = X_train.copy()\n",
    "data_train['true'] = Y_train\n",
    "data_train.sort_values('true', inplace=True)\n",
    "\n",
    "pyplot.figure(figsize=(21, 21))\n",
    "pyplot.subplot(3, 3, 1)\n",
    "seaborn.scatterplot(data=data_train, x='age', y='avg_glucose_level', hue='true')\n",
    "pyplot.title('True classification of train set')\n",
    "\n",
    "i = 2\n",
    "for ccp_alpha in ccp_alphas:\n",
    "    model['CART'].set_params(ccp_alpha=ccp_alpha)\n",
    "    model.fit(X_train, Y_train)\n",
    "    Y_pred = model.predict(X_train)\n",
    "    print(\"ccp_alpha (%.3f): %f\" % (ccp_alpha, f1_score(Y_train, Y_pred)))\n",
    "\n",
    "    data_train = X_train.copy()\n",
    "\n",
    "    data_train['pred'] = Y_pred\n",
    "    data_train.sort_values('pred', inplace=True)\n",
    "    pyplot.subplot(3, 3, i)\n",
    "    seaborn.scatterplot(data=data_train, x='age', y='avg_glucose_level', hue='pred')\n",
    "    pyplot.title('ccp_alpha = ' + str(ccp_alpha))\n",
    "    i += 1\n",
    "\n",
    "pyplot.savefig('./CART_figures/CART_ccpalpha.png')\n",
    "pyplot.show()"
   ]
  },
  {
   "cell_type": "markdown",
   "metadata": {
    "id": "FOO1n0-i6ajg",
    "pycharm": {
     "name": "#%% md\n"
    }
   },
   "source": [
    "Though the performance lifts significantly, the figure above suggests a cautious if we rely on the model. Almost all instances in the right hand is misclassified, which is probably not real."
   ]
  },
  {
   "cell_type": "markdown",
   "metadata": {
    "id": "0X3I1VekbO1l"
   },
   "source": [
    "# 6. Finalizing"
   ]
  },
  {
   "cell_type": "code",
   "execution_count": null,
   "metadata": {
    "cellView": "form",
    "id": "FCJ1WBOGbO1m",
    "outputId": "c3108784-6778-49c9-9096-b2f7d4c12edc",
    "pycharm": {
     "name": "#%%\n"
    }
   },
   "outputs": [],
   "source": [
    "\n",
    "start_train = time.time()\n",
    "\n",
    "step_trans = ('Trans', ColumnTransformer([('SimpleImputer', SimpleImputer(), numerical_ix),\n",
    "                                          ('OneHotEncoder', OneHotEncoder(), categorical_ix)],\n",
    "                                         remainder='passthrough'))\n",
    "step_smote = ('SMOTEENN', SMOTEENN(sampling_strategy=0.3, random_state=seed))\n",
    "step_cart = ('CART', DecisionTreeClassifier(random_state=seed, min_samples_split=37, min_samples_leaf=11, ccp_alpha=0.001))\n",
    "\n",
    "cart = Pipeline([step_trans, step_smote, step_cart])\n",
    "\n",
    "# prepare the model\n",
    "cart.fit(X_train, Y_train)\n",
    "end_train = time.time()\n",
    "\n",
    "# estimate on the test dataset\n",
    "start_pred = time.time()\n",
    "Y_pred = cart.predict(X_test)\n",
    "end_pred = time.time()\n",
    "print(\"CART training time: %ss\" % (end_train - start_train))\n",
    "print(\"CART predicting time: %ss\" % (end_pred - start_pred))\n",
    "print(confusion_matrix(Y_test, Y_pred))\n",
    "print(classification_report(Y_test, Y_pred))\n",
    "\n",
    "data_test = X_test.copy()\n",
    "data_test['true'] = Y_test\n",
    "data_test['pred'] = Y_pred\n",
    "data_test.sort_values('true', inplace=True)\n",
    "\n",
    "pyplot.figure(figsize=(22, 6))\n",
    "pyplot.subplot(1, 3, 1)\n",
    "seaborn.scatterplot(data=data_test, x='age', y='avg_glucose_level', hue='true')\n",
    "pyplot.title('True classification of test data set')\n",
    "\n",
    "data_test.sort_values('pred', inplace=True)\n",
    "pyplot.subplot(1, 3, 2)\n",
    "seaborn.scatterplot(data=data_test, x='age', y='avg_glucose_level', hue='pred')\n",
    "pyplot.title('Predicted classification on test data set')\n",
    "\n",
    "# visualize\n",
    "model = Pipeline([step_smote,\n",
    "                  step_cart])\n",
    "pyplot.subplot(1, 3, 3)\n",
    "visualize_boundary(model, X_train, Y_train)\n",
    "\n",
    "pyplot.title('Decision boundary by CART')\n",
    "pyplot.savefig(\"./CART_figures/CART_final_prediction.png\")\n",
    "pyplot.show()"
   ]
  },
  {
   "cell_type": "code",
   "execution_count": null,
   "metadata": {
    "cellView": "form",
    "id": "ny8OcUVt6aji",
    "outputId": "0412ff70-6e7c-47c8-9ab9-76d1f01945a4",
    "pycharm": {
     "name": "#%% Visualize tree\n"
    }
   },
   "outputs": [],
   "source": [
    "\n",
    "pyplot.figure(figsize=(50, 50))\n",
    "tree.plot_tree(cart['CART'], filled=True)\n",
    "pyplot.savefig('./CART_figures/CART_visualize.png')\n",
    "pyplot.show()"
   ]
  },
  {
   "cell_type": "markdown",
   "metadata": {
    "id": "375VTaaxbO1m"
   },
   "source": [
    "## 6.2 Save model for later use"
   ]
  },
  {
   "cell_type": "code",
   "execution_count": null,
   "metadata": {
    "cellView": "form",
    "id": "3Wb7PHsm6ajk",
    "pycharm": {
     "name": "#%%\n"
    }
   },
   "outputs": [],
   "source": [
    "\n",
    "dump(cart, open('cart.pkl', 'wb'))"
   ]
  },
  {
   "cell_type": "code",
   "execution_count": null,
   "metadata": {
    "cellView": "form",
    "id": "9eraueYL6ajl",
    "pycharm": {
     "name": "#%%\n"
    }
   },
   "outputs": [],
   "source": [
    "\n",
    "model = load(open('cart.pkl', 'rb'))"
   ]
  }
 ],
 "metadata": {
  "colab": {
   "name": "analyze_data.ipynb",
   "provenance": []
  },
  "kernelspec": {
   "display_name": "Python 3 (ipykernel)",
   "language": "python",
   "name": "python3"
  },
  "language_info": {
   "codemirror_mode": {
    "name": "ipython",
    "version": 3
   },
   "file_extension": ".py",
   "mimetype": "text/x-python",
   "name": "python",
   "nbconvert_exporter": "python",
   "pygments_lexer": "ipython3",
   "version": "3.11.3"
  }
 },
 "nbformat": 4,
 "nbformat_minor": 1
}
